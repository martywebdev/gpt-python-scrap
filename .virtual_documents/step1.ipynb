


import requests


url = "https://quotes.toscrape.com"
response = requests.get(url)


response.status_code


response.text[:500]





from bs4 import BeautifulSoup


soup = BeautifulSoup(response.text, "html.parser")
soup





first_quote = soup.select_one('.quote')
first_quote.prettify()





text = first_quote.select_one('.text').get_text()
author = first_quote.select_one('.author').getText()
tags = [tag.get_text() for tag in first_quote.select('.tag')]

print(f"Quote: {text}\nAuthor: {author}\nTags: {tags}")





quotes = []
for quote in soup.select('.quote'):
    text = quote.select_one('.text').get_text()
    author = quote.select_one('.author').get_text()
    tags = [tag.get_text() for tag in quote.select('.tag')]
    quotes.append({
        'text': text,
        'author': author,
        'tags': tags
    })
print("Total quotes found:", len(quotes))
for q in quotes:
    print(q)





import pprint


base_url = "https://quotes.toscrape.com"
url = base_url

while True:
    response = requests.get(url)
    soup = BeautifulSoup(response.text, "html.parser")
    
    for q in soup.select('.quote'):
        text = q.select_one('.text').get_text()
        author = q.select_one('.author').get_text()
        tags = [tag.get_text() for tag in q.select('.tag')]
        quotes.append({"text": text, "author": author, "tags": tags})
        
    next_button = soup.select_one(".next > a")
    if next_button:
        url = base_url + next_button["href"]
    else:
        break
print("Total quotes scraped:", len(quotes))
print("First 3 quotes:")
for q in quotes[:3]:
    print(q)






