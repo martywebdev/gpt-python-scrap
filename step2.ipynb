{
 "cells": [
  {
   "cell_type": "markdown",
   "id": "9e4f0035",
   "metadata": {},
   "source": [
    "# Step 2: Handle Authentication (Login Required)"
   ]
  },
  {
   "cell_type": "code",
   "execution_count": 4,
   "id": "e8cbf8b6",
   "metadata": {},
   "outputs": [],
   "source": [
    "import requests\n",
    "from bs4 import BeautifulSoup\n",
    "\n",
    "\n",
    "login_url = \"https://quotes.toscrape.com/login\"\n",
    "\n",
    "session = requests.Session()\n",
    "\n",
    "response = session.get(login_url)\n",
    "soup = BeautifulSoup(response.text, 'html.parser')\n",
    "\n"
   ]
  },
  {
   "cell_type": "code",
   "execution_count": 5,
   "id": "aeefe8f0",
   "metadata": {},
   "outputs": [
    {
     "data": {
      "text/plain": [
       "'ydKomYnUcRMPOJDreGStLhTzjsgIfFAXbBxuClWvEpqaHQZkVNwi'"
      ]
     },
     "execution_count": 5,
     "metadata": {},
     "output_type": "execute_result"
    }
   ],
   "source": [
    "token = soup.select_one(\"input[name='csrf_token']\")['value']\n",
    "\n",
    "token"
   ]
  },
  {
   "cell_type": "markdown",
   "id": "f62ff602",
   "metadata": {},
   "source": [
    "## Login Request"
   ]
  },
  {
   "cell_type": "code",
   "execution_count": 6,
   "id": "73231267",
   "metadata": {},
   "outputs": [
    {
     "name": "stdout",
     "output_type": "stream",
     "text": [
      "Login status: 200\n",
      "Final URL: https://quotes.toscrape.com/\n"
     ]
    }
   ],
   "source": [
    "payload = {\n",
    "    'csrf_token': token,\n",
    "    'username': 'testuser',\n",
    "    'password': 'testpass'\n",
    "}\n",
    "\n",
    "login_response = session.post(login_url, data=payload)\n",
    "\n",
    "print(\"Login status:\", login_response.status_code)\n",
    "print(\"Final URL:\", login_response.url)"
   ]
  },
  {
   "cell_type": "code",
   "execution_count": null,
   "id": "3c640c86",
   "metadata": {},
   "outputs": [],
   "source": []
  }
 ],
 "metadata": {
  "kernelspec": {
   "display_name": ".venv",
   "language": "python",
   "name": "python3"
  },
  "language_info": {
   "codemirror_mode": {
    "name": "ipython",
    "version": 3
   },
   "file_extension": ".py",
   "mimetype": "text/x-python",
   "name": "python",
   "nbconvert_exporter": "python",
   "pygments_lexer": "ipython3",
   "version": "3.13.5"
  }
 },
 "nbformat": 4,
 "nbformat_minor": 5
}
