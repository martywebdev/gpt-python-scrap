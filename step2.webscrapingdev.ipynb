{
 "cells": [
  {
   "cell_type": "markdown",
   "id": "1bfb33a0",
   "metadata": {},
   "source": [
    "# Step 2 "
   ]
  },
  {
   "cell_type": "markdown",
   "id": "d47ade1e",
   "metadata": {},
   "source": [
    "## set up"
   ]
  },
  {
   "cell_type": "code",
   "execution_count": 9,
   "id": "9d5c5807",
   "metadata": {},
   "outputs": [
    {
     "data": {
      "text/plain": [
       "<form action=\"/api/login\" method=\"POST\">\n",
       "<div class=\"mb-3\">\n",
       "<label class=\"form-label\" for=\"username\">Username</label>\n",
       "<input aria-label=\"Username\" class=\"form-control\" name=\"username\" placeholder=\"user123\" type=\"text\"/>\n",
       "</div>\n",
       "<div class=\"mb-3\">\n",
       "<label class=\"form-label\" for=\"password\">Password</label>\n",
       "<input aria-label=\"Password\" class=\"form-control\" name=\"password\" placeholder=\"password\" type=\"text\"/>\n",
       "</div>\n",
       "<button class=\"btn btn-primary\" type=\"submit\">Submit</button>\n",
       "</form>"
      ]
     },
     "execution_count": 9,
     "metadata": {},
     "output_type": "execute_result"
    }
   ],
   "source": [
    "import requests\n",
    "from bs4 import BeautifulSoup\n",
    "\n",
    "login_url = \"https://web-scraping.dev/login\"\n",
    "session = requests.Session()\n",
    "\n",
    "response = session.get(login_url)\n",
    "soup = BeautifulSoup(response.text, 'html.parser')\n",
    "form = soup.select_one('form')\n",
    "form"
   ]
  },
  {
   "cell_type": "markdown",
   "id": "5af5e963",
   "metadata": {},
   "source": [
    "## submitting the login"
   ]
  },
  {
   "cell_type": "code",
   "execution_count": 12,
   "id": "43d35239",
   "metadata": {},
   "outputs": [
    {
     "name": "stdout",
     "output_type": "stream",
     "text": [
      "Login status: 200\n",
      "Final URL: https://web-scraping.dev/login\n"
     ]
    }
   ],
   "source": [
    "payload = {\n",
    "    \"username\": \"user123\",   # demo credentials\n",
    "    \"password\": \"password\"    # demo credentials\n",
    "}\n",
    "\n",
    "post_url = f\"https://web-scraping.dev{form['action']}\"\n",
    "login_response = session.post(post_url, data=payload)\n",
    "\n",
    "print(\"Login status:\", login_response.status_code)\n",
    "print(\"Final URL:\", login_response.url)\n"
   ]
  },
  {
   "cell_type": "code",
   "execution_count": null,
   "id": "06100b97",
   "metadata": {},
   "outputs": [],
   "source": []
  }
 ],
 "metadata": {
  "kernelspec": {
   "display_name": ".venv",
   "language": "python",
   "name": "python3"
  },
  "language_info": {
   "codemirror_mode": {
    "name": "ipython",
    "version": 3
   },
   "file_extension": ".py",
   "mimetype": "text/x-python",
   "name": "python",
   "nbconvert_exporter": "python",
   "pygments_lexer": "ipython3",
   "version": "3.13.5"
  }
 },
 "nbformat": 4,
 "nbformat_minor": 5
}
